{
 "cells": [
  {
   "cell_type": "code",
   "execution_count": null,
   "id": "be02c304",
   "metadata": {},
   "outputs": [],
   "source": [
    "import numpy as np\n",
    "import pylab as pl\n",
    "import pyccl as ccl\n",
    "import utils as ut\n",
    "from tqdm.auto import tqdm\n",
    "from scipy.interpolate import interp1d\n",
    "\n",
    "%matplotlib inline\n",
    "%config InlineBackend.figure_format = 'retina'\n",
    "colours = np.array(['#003049','#d52828','#f77f00'])\n",
    "\n",
    "import os\n",
    "results_dir = os.getcwd()\n",
    "\n",
    "def data(var,func):\n",
    "    return np.column_stack((var,func))"
   ]
  },
  {
   "cell_type": "code",
   "execution_count": null,
   "id": "aecedbf3",
   "metadata": {},
   "outputs": [],
   "source": [
    "from Bispectrum_DarkAges import fisher"
   ]
  },
  {
   "cell_type": "markdown",
   "id": "8db72000",
   "metadata": {},
   "source": [
    "# Frequency setup"
   ]
  },
  {
   "cell_type": "code",
   "execution_count": null,
   "id": "207677d2",
   "metadata": {},
   "outputs": [],
   "source": [
    "def frequency_bins(numin, numax, pct=0.3):\n",
    "    bin_edges = [numax,]\n",
    "    nu_edge = numax + 0.\n",
    "    while nu_edge > numin:\n",
    "        nu_edge -= nu_edge*0.3\n",
    "        if nu_edge >= 0.9*numin:\n",
    "            bin_edges.append(nu_edge)\n",
    "    return np.array(bin_edges)\n",
    "\n",
    "def centre_of_redshift_bins(numin, numax, pct=0.3):\n",
    "    f_edges = frequency_bins(numin, numax, pct)\n",
    "    zedges = 1420.4/f_edges - 1.0\n",
    "    return 0.5*(zedges[1:]+zedges[:-1])"
   ]
  },
  {
   "cell_type": "markdown",
   "id": "c93b162c",
   "metadata": {},
   "source": [
    "# Beginning forecast"
   ]
  },
  {
   "cell_type": "code",
   "execution_count": null,
   "id": "a3b72b09",
   "metadata": {},
   "outputs": [],
   "source": [
    "zs_S1 = centre_of_redshift_bins(20,60)\n",
    "zs_S2 = centre_of_redshift_bins(10,60)\n",
    "zs_S3 = centre_of_redshift_bins(5,60)[:-1]\n",
    "\n",
    "def sig_fNL(z,t_survey,window,wedge,IM):\n",
    "    '''\n",
    "        z        = centre of redshift bin;\n",
    "        t_survey = total observational time (in seconds);\n",
    "        window   = foreground window: heaviside ('HS'), comoving ('chi') or none;\n",
    "        wedge    = wedge foreground: primary beam ('pb'), horizon ('horizon') or none;\n",
    "        \n",
    "        To set kmin (kmax) in get_sigma_fNL, pass a list [kpara_min(max), kperp_min(max)];\n",
    "        If None, the kmin is set to the fundamental mode of the survey, and kpara_max is\n",
    "        set by the channel width (freq_res).\n",
    "    '''\n",
    "    \n",
    "    bda = fisher(redshift=z, t_survey=t_survey, wedge=wedge, window=window, IM=IM)\n",
    "    sig = bda.get_sigma_fNL(set_kmin=None, set_kmax=None, verbose=False)\n",
    "    \n",
    "    return sig"
   ]
  },
  {
   "cell_type": "markdown",
   "id": "468712aa",
   "metadata": {},
   "source": [
    "# Forecast 1: no foregrounds or wedge"
   ]
  },
  {
   "cell_type": "code",
   "execution_count": null,
   "id": "bc17e1c4",
   "metadata": {
    "scrolled": false
   },
   "outputs": [],
   "source": [
    "WINDOW = 'none'\n",
    "WEDGE  = 'none'\n",
    "TIME = 8e7 #seconds\n",
    "\n",
    "print('Varying z. No foregrounds.')\n",
    "sig_fNL_z_S1 = np.array([sig_fNL(z,t_survey=TIME,wedge=WEDGE,window=WINDOW,IM='S1') for z in tqdm(zs_S1)])\n",
    "sig_fNL_z_S2 = np.array([sig_fNL(z,t_survey=TIME,wedge=WEDGE,window=WINDOW,IM='S2') for z in tqdm(zs_S2)])\n",
    "sig_fNL_z_S3 = np.array([sig_fNL(z,t_survey=TIME,wedge=WEDGE,window=WINDOW,IM='S3') for z in tqdm(zs_S3)])"
   ]
  },
  {
   "cell_type": "code",
   "execution_count": null,
   "id": "90d1b72a",
   "metadata": {},
   "outputs": [],
   "source": [
    "np.savetxt(results_dir+'sig_fNL_S1_noFG_noWDG_1ttot.txt',data(zs_S1,sig_fNL_z_S1))\n",
    "np.savetxt(results_dir+'sig_fNL_S2_noFG_noWDG_1ttot.txt',data(zs_S2,sig_fNL_z_S2))\n",
    "np.savetxt(results_dir+'sig_fNL_S3_noFG_noWDG_1ttot.txt',data(zs_S3,sig_fNL_z_S3))"
   ]
  },
  {
   "cell_type": "markdown",
   "id": "ca62345e",
   "metadata": {},
   "source": [
    "# Forecast 2: horizon wedge"
   ]
  },
  {
   "cell_type": "code",
   "execution_count": null,
   "id": "4f075df3",
   "metadata": {},
   "outputs": [],
   "source": [
    "WINDOW = 'none'\n",
    "WEDGE  = 'hor'\n",
    "TIME = 8e7 #seconds\n",
    "\n",
    "print('Varying z. No foregrounds.')\n",
    "sig_fNL_z_S1 = np.array([sig_fNL(z,t_survey=TIME,wedge=WEDGE,window=WINDOW,IM='S1') for z in tqdm(zs_S1)])\n",
    "sig_fNL_z_S2 = np.array([sig_fNL(z,t_survey=TIME,wedge=WEDGE,window=WINDOW,IM='S2') for z in tqdm(zs_S2)])\n",
    "sig_fNL_z_S3 = np.array([sig_fNL(z,t_survey=TIME,wedge=WEDGE,window=WINDOW,IM='S3') for z in tqdm(zs_S3)])"
   ]
  },
  {
   "cell_type": "code",
   "execution_count": null,
   "id": "451a8325",
   "metadata": {},
   "outputs": [],
   "source": [
    "np.savetxt(results_dir+'sig_fNL_S1_hsFG_horWDG_1ttot.txt',data(zs_S1,sig_fNL_z_S1))\n",
    "np.savetxt(results_dir+'sig_fNL_S2_hsFG_horWDG_1ttot.txt',data(zs_S2,sig_fNL_z_S2))\n",
    "np.savetxt(results_dir+'sig_fNL_S3_hsFG_horWDG_1ttot.txt',data(zs_S3,sig_fNL_z_S3))"
   ]
  }
 ],
 "metadata": {
  "kernelspec": {
   "display_name": "Python 3 (ipykernel)",
   "language": "python",
   "name": "python3"
  },
  "language_info": {
   "codemirror_mode": {
    "name": "ipython",
    "version": 3
   },
   "file_extension": ".py",
   "mimetype": "text/x-python",
   "name": "python",
   "nbconvert_exporter": "python",
   "pygments_lexer": "ipython3",
   "version": "3.9.17"
  }
 },
 "nbformat": 4,
 "nbformat_minor": 5
}
