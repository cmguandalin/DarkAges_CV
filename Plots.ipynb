{
 "cells": [
  {
   "cell_type": "code",
   "execution_count": null,
   "id": "be02c304",
   "metadata": {},
   "outputs": [],
   "source": [
    "import numpy as np\n",
    "import pylab as pl\n",
    "import pyccl as ccl\n",
    "import utils as ut\n",
    "from tqdm.auto import tqdm\n",
    "from scipy.interpolate import interp1d\n",
    "\n",
    "%matplotlib inline\n",
    "%config InlineBackend.figure_format = 'retina'\n",
    "colours = np.array(['#003049','#d52828','#f77f00'])\n",
    "\n",
    "import os\n",
    "path_to_results = os.getcwd()"
   ]
  },
  {
   "cell_type": "markdown",
   "id": "0def2935",
   "metadata": {},
   "source": [
    "# Plots"
   ]
  },
  {
   "cell_type": "code",
   "execution_count": null,
   "id": "a68bd53f",
   "metadata": {},
   "outputs": [],
   "source": [
    "sig_fNL_z_S1 = np.loadtxt(path_to_results+'sig_fNL_S1_noFG_noWDG_1ttot.txt')\n",
    "sig_fNL_z_S2 = np.loadtxt(path_to_results+'sig_fNL_S2_noFG_noWDG_1ttot.txt')\n",
    "sig_fNL_z_S3 = np.loadtxt(path_to_results+'sig_fNL_S3_noFG_noWDG_1ttot.txt')\n",
    "\n",
    "sig_fNL_z_S1_FG_hor = np.loadtxt(path_to_results+'sig_fNL_S1_hsFG_horWDG_1ttot.txt')\n",
    "sig_fNL_z_S2_FG_hor = np.loadtxt(path_to_results+'sig_fNL_S2_hsFG_horWDG_1ttot.txt')\n",
    "sig_fNL_z_S3_FG_hor = np.loadtxt(path_to_results+'sig_fNL_S3_hsFG_horWDG_1ttot.txt')"
   ]
  },
  {
   "cell_type": "code",
   "execution_count": null,
   "id": "f3edea56",
   "metadata": {},
   "outputs": [],
   "source": [
    "# Plot style\n",
    "colours = np.array(['#003049','#d52828','#f77f00'])\n",
    "pl.yscale('log')\n",
    "pl.ylabel(r'$\\sigma_{f_{\\rm NL}}(z)$',fontsize=12)\n",
    "pl.xlabel(r'$z$',fontsize=12)\n",
    "pl.tick_params(which='both', labelsize=12)\n",
    "pl.tick_params(which='major', length=8, width=1)\n",
    "pl.tick_params(which='minor', length=5, width=1)\n",
    "\n",
    "# Stage III\n",
    "pl.plot(sig_fNL_z_S3[:,0],sig_fNL_z_S3[:,1]\n",
    "        ,c=colours[2])\n",
    "pl.plot(sig_fNL_z_S3_FG_hor[:,0],sig_fNL_z_S3_FG_hor[:,1]\n",
    "        ,c=colours[2],ls='--',marker='.')\n",
    "# Stage II\n",
    "pl.plot(sig_fNL_z_S2[:,0],sig_fNL_z_S2[:,1]\n",
    "        ,c=colours[1])\n",
    "pl.plot(sig_fNL_z_S2_FG_hor[:,0],sig_fNL_z_S2_FG_hor[:,1]\n",
    "        ,c=colours[1],ls='--',marker='.')\n",
    "# Stage I\n",
    "pl.plot(sig_fNL_z_S1[:,0],sig_fNL_z_S1[:,1]\n",
    "        ,c=colours[0],label='No foregrounds')\n",
    "pl.plot(sig_fNL_z_S1_FG_hor[:,0],sig_fNL_z_S1_FG_hor[:,1]\n",
    "        ,c=colours[0],ls='--',marker='.',label='Horizon wedge')\n",
    "\n",
    "pl.title(r'Channel bandwidth $\\delta\\nu=10$ kHz, $P_N=0$',fontsize=12)\n",
    "pl.text(x=140,y=2.5e-1,s='SIII',fontsize=12,c=colours[2])\n",
    "pl.text(x=80,y=1.3e-1,s='SII',fontsize=12,c=colours[1])\n",
    "pl.text(x=40,y=4e-2,s='SI',fontsize=12,c=colours[0])\n",
    "pl.legend(fontsize=12)\n",
    "pl.grid(which='minor', c='lightgrey', ls=':')\n",
    "pl.grid(which='major', c='grey', alpha=0.5)\n",
    "pl.savefig(path_to_results+'/results.pdf',dpi=400,bbox_inches='tight')\n",
    "pl.savefig(path_to_results+'/results.png',dpi=400,bbox_inches='tight')"
   ]
  },
  {
   "cell_type": "code",
   "execution_count": null,
   "id": "cba43df1",
   "metadata": {},
   "outputs": [],
   "source": []
  }
 ],
 "metadata": {
  "kernelspec": {
   "display_name": "Python 3 (ipykernel)",
   "language": "python",
   "name": "python3"
  },
  "language_info": {
   "codemirror_mode": {
    "name": "ipython",
    "version": 3
   },
   "file_extension": ".py",
   "mimetype": "text/x-python",
   "name": "python",
   "nbconvert_exporter": "python",
   "pygments_lexer": "ipython3",
   "version": "3.9.17"
  }
 },
 "nbformat": 4,
 "nbformat_minor": 5
}
